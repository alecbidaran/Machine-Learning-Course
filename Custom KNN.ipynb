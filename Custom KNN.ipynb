{
 "cells": [
  {
   "cell_type": "code",
   "execution_count": 124,
   "metadata": {},
   "outputs": [],
   "source": [
    "import numpy as np \n",
    "import matplotlib.pyplot as plt \n",
    "from sklearn import datasets\n",
    "from collections import Counter"
   ]
  },
  {
   "cell_type": "code",
   "execution_count": 125,
   "metadata": {},
   "outputs": [],
   "source": [
    "data= datasets.load_iris()\n",
    "X=data.data\n",
    "Y=data.target"
   ]
  },
  {
   "cell_type": "code",
   "execution_count": 126,
   "metadata": {},
   "outputs": [],
   "source": [
    "from sklearn.model_selection import train_test_split"
   ]
  },
  {
   "cell_type": "code",
   "execution_count": 127,
   "metadata": {},
   "outputs": [],
   "source": [
    "x_train,x_test,y_train,y_test=train_test_split(X,Y,test_size=0.2)"
   ]
  },
  {
   "cell_type": "code",
   "execution_count": 128,
   "metadata": {},
   "outputs": [
    {
     "data": {
      "text/plain": [
       "<matplotlib.collections.PathCollection at 0x17c8bf37970>"
      ]
     },
     "execution_count": 128,
     "metadata": {},
     "output_type": "execute_result"
    },
    {
     "data": {
      "image/png": "[encoded data removed]",
      "text/plain": [
       "<Figure size 432x288 with 1 Axes>"
      ]
     },
     "metadata": {
      "needs_background": "light"
     },
     "output_type": "display_data"
    }
   ],
   "source": [
    "plt.scatter(x_train[:,2],x_train[:,3],c=y_train)"
   ]
  },
  {
   "cell_type": "code",
   "execution_count": 129,
   "metadata": {},
   "outputs": [],
   "source": [
    "def eclidian_distance(x1,x2):\n",
    "    return np.sqrt(np.sum((x1-x2)**2))"
   ]
  },
  {
   "cell_type": "code",
   "execution_count": 130,
   "metadata": {},
   "outputs": [],
   "source": [
    "def _predict(x):\n",
    "    L=[eclidian_distance(x,x_t) for x_t in x_train]\n",
    "    k_indices=np.argsort(L)[:3]\n",
    "    k_neraest_neigbour=[y_train[i] for i in k_indices]\n",
    "    most_common=Counter(k_neraest_neigbour).most_common(1)\n",
    "    return most_common[0][0]\n",
    "predicted=[_predict(x) for x in x_test]"
   ]
  },
  {
   "cell_type": "code",
   "execution_count": 131,
   "metadata": {},
   "outputs": [],
   "source": [
    "class KNN():\n",
    "    def __init__(self,data,label,K):\n",
    "        self.x_train=data\n",
    "        self.y_train=label\n",
    "        self.k=K\n",
    "    def predict(self,x):\n",
    "        predicted=[self._predict(x_i) for x_i in x]\n",
    "        return predicted\n",
    "    def _predict(self,x):\n",
    "        L=[eclidian_distance(x,x_t) for x_t in self.x_train]\n",
    "        k_indices=np.argsort(L)[:self.k]\n",
    "        k_neraest_neigbour=[self.y_train[i] for i in k_indices]\n",
    "        most_common=Counter(k_neraest_neigbour).most_common(1)\n",
    "        return most_common[0][0]\n",
    "        "
   ]
  },
  {
   "cell_type": "code",
   "execution_count": 132,
   "metadata": {},
   "outputs": [],
   "source": [
    "knn=KNN(data=x_train,label=y_train,K=3)"
   ]
  },
  {
   "cell_type": "code",
   "execution_count": 133,
   "metadata": {},
   "outputs": [
    {
     "name": "stdout",
     "output_type": "stream",
     "text": [
      "29.5 ms ± 889 µs per loop (mean ± std. dev. of 7 runs, 10 loops each)\n"
     ]
    }
   ],
   "source": [
    "%%timeit\n",
    "predict=knn.predict(x_test)\n",
    "acc=np.sum(predict==y_test)/len(x_test)\n",
    "acc"
   ]
  },
  {
   "cell_type": "markdown",
   "metadata": {},
   "source": [
    "# Designing KNN with Cuda"
   ]
  },
  {
   "cell_type": "code",
   "execution_count": 134,
   "metadata": {},
   "outputs": [],
   "source": [
    "import cupy as cp "
   ]
  },
  {
   "cell_type": "code",
   "execution_count": 135,
   "metadata": {},
   "outputs": [],
   "source": [
    "def eclidian_distance_gpu(x1,x2):\n",
    "    return cp.sqrt(cp.sum((x1-x2)**2))"
   ]
  },
  {
   "cell_type": "code",
   "execution_count": 136,
   "metadata": {},
   "outputs": [],
   "source": [
    "class KNN_gpu():\n",
    "    def __init__(self,data,label,K):\n",
    "        self.x_train=data\n",
    "        self.y_train=label\n",
    "        self.k=K\n",
    "    def predict(self,x):\n",
    "        predicted=[self._predict(x_i) for x_i in x]\n",
    "        return cp.array(predicted)\n",
    "    def _predict(self,x):\n",
    "        L=cp.array([eclidian_distance_gpu(x,x_t) for x_t in self.x_train],dtype=cp.float32)\n",
    "        k_indices=cp.argsort(L)[:self.k]\n",
    "        k_neraest_neigbour=[self.y_train[i] for i in cp.asnumpy(k_indices)]\n",
    "        most_common=Counter(cp.asnumpy(k_neraest_neigbour)).most_common(1)\n",
    "        return most_common[0][0]\n",
    "        "
   ]
  },
  {
   "cell_type": "code",
   "execution_count": 137,
   "metadata": {},
   "outputs": [],
   "source": [
    "knn=KNN_gpu(data=x_train,label=y_train,K=3)"
   ]
  },
  {
   "cell_type": "code",
   "execution_count": 138,
   "metadata": {},
   "outputs": [
    {
     "name": "stdout",
     "output_type": "stream",
     "text": [
      "106 ms ± 3.32 ms per loop (mean ± std. dev. of 7 runs, 10 loops each)\n"
     ]
    }
   ],
   "source": [
    "%%timeit \n",
    "predict=knn.predict(x_test)\n",
    "acc=np.sum(cp.asnumpy(predict)==y_test)/len(x_test)\n",
    "acc\n"
   ]
  },
  {
   "cell_type": "code",
   "execution_count": null,
   "metadata": {},
   "outputs": [],
   "source": []
  }
 ],
 "metadata": {
  "kernelspec": {
   "display_name": "Python 3 (ipykernel)",
   "language": "python",
   "name": "python3"
  },
  "language_info": {
   "codemirror_mode": {
    "name": "ipython",
    "version": 3
   },
   "file_extension": ".py",
   "mimetype": "text/x-python",
   "name": "python",
   "nbconvert_exporter": "python",
   "pygments_lexer": "ipython3",
   "version": "3.9.12"
  }
 },
 "nbformat": 4,
 "nbformat_minor": 4
}
