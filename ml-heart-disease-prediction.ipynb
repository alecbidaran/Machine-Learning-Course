{
 "cells": [
  {
   "cell_type": "code",
   "execution_count": 1,
   "metadata": {
    "_cell_guid": "b1076dfc-b9ad-4769-8c92-a6c4dae69d19",
    "_uuid": "8f2839f25d086af736a60e9eeb907d3b93b6e0e5",
    "execution": {
     "iopub.execute_input": "2022-04-26T08:17:04.489289Z",
     "iopub.status.busy": "2022-04-26T08:17:04.488754Z",
     "iopub.status.idle": "2022-04-26T08:17:04.505565Z",
     "shell.execute_reply": "2022-04-26T08:17:04.504754Z"
    },
    "papermill": {
     "duration": 0.042031,
     "end_time": "2022-04-26T08:17:04.507859",
     "exception": false,
     "start_time": "2022-04-26T08:17:04.465828",
     "status": "completed"
    },
    "tags": []
   },
   "outputs": [
    {
     "name": "stdout",
     "output_type": "stream",
     "text": [
      "/kaggle/input/heart-failure-prediction/heart.csv\n"
     ]
    }
   ],
   "source": [
    "# This Python 3 environment comes with many helpful analytics libraries installed\n",
    "# It is defined by the kaggle/python Docker image: https://github.com/kaggle/docker-python\n",
    "# For example, here's several helpful packages to load\n",
    "\n",
    "import numpy as np # linear algebra\n",
    "import pandas as pd # data processing, CSV file I/O (e.g. pd.read_csv)\n",
    "\n",
    "# Input data files are available in the read-only \"../input/\" directory\n",
    "# For example, running this (by clicking run or pressing Shift+Enter) will list all files under the input directory\n",
    "\n",
    "import os\n",
    "for dirname, _, filenames in os.walk('/kaggle/input'):\n",
    "    for filename in filenames:\n",
    "        print(os.path.join(dirname, filename))\n",
    "\n",
    "# You can write up to 20GB to the current directory (/kaggle/working/) that gets preserved as output when you create a version using \"Save & Run All\" \n",
    "# You can also write temporary files to /kaggle/temp/, but they won't be saved outside of the current session"
   ]
  },
  {
   "cell_type": "code",
   "execution_count": 2,
   "metadata": {
    "execution": {
     "iopub.execute_input": "2022-04-26T08:17:04.549807Z",
     "iopub.status.busy": "2022-04-26T08:17:04.549357Z",
     "iopub.status.idle": "2022-04-26T08:17:04.593952Z",
     "shell.execute_reply": "2022-04-26T08:17:04.592978Z"
    },
    "papermill": {
     "duration": 0.06734,
     "end_time": "2022-04-26T08:17:04.596057",
     "exception": false,
     "start_time": "2022-04-26T08:17:04.528717",
     "status": "completed"
    },
    "tags": []
   },
   "outputs": [
    {
     "data": {
      "text/html": [
       "<div>\n",
       "<style scoped>\n",
       "    .dataframe tbody tr th:only-of-type {\n",
       "        vertical-align: middle;\n",
       "    }\n",
       "\n",
       "    .dataframe tbody tr th {\n",
       "        vertical-align: top;\n",
       "    }\n",
       "\n",
       "    .dataframe thead th {\n",
       "        text-align: right;\n",
       "    }\n",
       "</style>\n",
       "<table border=\"1\" class=\"dataframe\">\n",
       "  <thead>\n",
       "    <tr style=\"text-align: right;\">\n",
       "      <th></th>\n",
       "      <th>Age</th>\n",
       "      <th>Sex</th>\n",
       "      <th>ChestPainType</th>\n",
       "      <th>RestingBP</th>\n",
       "      <th>Cholesterol</th>\n",
       "      <th>FastingBS</th>\n",
       "      <th>RestingECG</th>\n",
       "      <th>MaxHR</th>\n",
       "      <th>ExerciseAngina</th>\n",
       "      <th>Oldpeak</th>\n",
       "      <th>ST_Slope</th>\n",
       "      <th>HeartDisease</th>\n",
       "    </tr>\n",
       "  </thead>\n",
       "  <tbody>\n",
       "    <tr>\n",
       "      <th>0</th>\n",
       "      <td>40</td>\n",
       "      <td>M</td>\n",
       "      <td>ATA</td>\n",
       "      <td>140</td>\n",
       "      <td>289</td>\n",
       "      <td>0</td>\n",
       "      <td>Normal</td>\n",
       "      <td>172</td>\n",
       "      <td>N</td>\n",
       "      <td>0.0</td>\n",
       "      <td>Up</td>\n",
       "      <td>0</td>\n",
       "    </tr>\n",
       "    <tr>\n",
       "      <th>1</th>\n",
       "      <td>49</td>\n",
       "      <td>F</td>\n",
       "      <td>NAP</td>\n",
       "      <td>160</td>\n",
       "      <td>180</td>\n",
       "      <td>0</td>\n",
       "      <td>Normal</td>\n",
       "      <td>156</td>\n",
       "      <td>N</td>\n",
       "      <td>1.0</td>\n",
       "      <td>Flat</td>\n",
       "      <td>1</td>\n",
       "    </tr>\n",
       "    <tr>\n",
       "      <th>2</th>\n",
       "      <td>37</td>\n",
       "      <td>M</td>\n",
       "      <td>ATA</td>\n",
       "      <td>130</td>\n",
       "      <td>283</td>\n",
       "      <td>0</td>\n",
       "      <td>ST</td>\n",
       "      <td>98</td>\n",
       "      <td>N</td>\n",
       "      <td>0.0</td>\n",
       "      <td>Up</td>\n",
       "      <td>0</td>\n",
       "    </tr>\n",
       "    <tr>\n",
       "      <th>3</th>\n",
       "      <td>48</td>\n",
       "      <td>F</td>\n",
       "      <td>ASY</td>\n",
       "      <td>138</td>\n",
       "      <td>214</td>\n",
       "      <td>0</td>\n",
       "      <td>Normal</td>\n",
       "      <td>108</td>\n",
       "      <td>Y</td>\n",
       "      <td>1.5</td>\n",
       "      <td>Flat</td>\n",
       "      <td>1</td>\n",
       "    </tr>\n",
       "    <tr>\n",
       "      <th>4</th>\n",
       "      <td>54</td>\n",
       "      <td>M</td>\n",
       "      <td>NAP</td>\n",
       "      <td>150</td>\n",
       "      <td>195</td>\n",
       "      <td>0</td>\n",
       "      <td>Normal</td>\n",
       "      <td>122</td>\n",
       "      <td>N</td>\n",
       "      <td>0.0</td>\n",
       "      <td>Up</td>\n",
       "      <td>0</td>\n",
       "    </tr>\n",
       "    <tr>\n",
       "      <th>...</th>\n",
       "      <td>...</td>\n",
       "      <td>...</td>\n",
       "      <td>...</td>\n",
       "      <td>...</td>\n",
       "      <td>...</td>\n",
       "      <td>...</td>\n",
       "      <td>...</td>\n",
       "      <td>...</td>\n",
       "      <td>...</td>\n",
       "      <td>...</td>\n",
       "      <td>...</td>\n",
       "      <td>...</td>\n",
       "    </tr>\n",
       "    <tr>\n",
       "      <th>913</th>\n",
       "      <td>45</td>\n",
       "      <td>M</td>\n",
       "      <td>TA</td>\n",
       "      <td>110</td>\n",
       "      <td>264</td>\n",
       "      <td>0</td>\n",
       "      <td>Normal</td>\n",
       "      <td>132</td>\n",
       "      <td>N</td>\n",
       "      <td>1.2</td>\n",
       "      <td>Flat</td>\n",
       "      <td>1</td>\n",
       "    </tr>\n",
       "    <tr>\n",
       "      <th>914</th>\n",
       "      <td>68</td>\n",
       "      <td>M</td>\n",
       "      <td>ASY</td>\n",
       "      <td>144</td>\n",
       "      <td>193</td>\n",
       "      <td>1</td>\n",
       "      <td>Normal</td>\n",
       "      <td>141</td>\n",
       "      <td>N</td>\n",
       "      <td>3.4</td>\n",
       "      <td>Flat</td>\n",
       "      <td>1</td>\n",
       "    </tr>\n",
       "    <tr>\n",
       "      <th>915</th>\n",
       "      <td>57</td>\n",
       "      <td>M</td>\n",
       "      <td>ASY</td>\n",
       "      <td>130</td>\n",
       "      <td>131</td>\n",
       "      <td>0</td>\n",
       "      <td>Normal</td>\n",
       "      <td>115</td>\n",
       "      <td>Y</td>\n",
       "      <td>1.2</td>\n",
       "      <td>Flat</td>\n",
       "      <td>1</td>\n",
       "    </tr>\n",
       "    <tr>\n",
       "      <th>916</th>\n",
       "      <td>57</td>\n",
       "      <td>F</td>\n",
       "      <td>ATA</td>\n",
       "      <td>130</td>\n",
       "      <td>236</td>\n",
       "      <td>0</td>\n",
       "      <td>LVH</td>\n",
       "      <td>174</td>\n",
       "      <td>N</td>\n",
       "      <td>0.0</td>\n",
       "      <td>Flat</td>\n",
       "      <td>1</td>\n",
       "    </tr>\n",
       "    <tr>\n",
       "      <th>917</th>\n",
       "      <td>38</td>\n",
       "      <td>M</td>\n",
       "      <td>NAP</td>\n",
       "      <td>138</td>\n",
       "      <td>175</td>\n",
       "      <td>0</td>\n",
       "      <td>Normal</td>\n",
       "      <td>173</td>\n",
       "      <td>N</td>\n",
       "      <td>0.0</td>\n",
       "      <td>Up</td>\n",
       "      <td>0</td>\n",
       "    </tr>\n",
       "  </tbody>\n",
       "</table>\n",
       "<p>918 rows × 12 columns</p>\n",
       "</div>"
      ],
      "text/plain": [
       "     Age Sex ChestPainType  RestingBP  Cholesterol  FastingBS RestingECG  \\\n",
       "0     40   M           ATA        140          289          0     Normal   \n",
       "1     49   F           NAP        160          180          0     Normal   \n",
       "2     37   M           ATA        130          283          0         ST   \n",
       "3     48   F           ASY        138          214          0     Normal   \n",
       "4     54   M           NAP        150          195          0     Normal   \n",
       "..   ...  ..           ...        ...          ...        ...        ...   \n",
       "913   45   M            TA        110          264          0     Normal   \n",
       "914   68   M           ASY        144          193          1     Normal   \n",
       "915   57   M           ASY        130          131          0     Normal   \n",
       "916   57   F           ATA        130          236          0        LVH   \n",
       "917   38   M           NAP        138          175          0     Normal   \n",
       "\n",
       "     MaxHR ExerciseAngina  Oldpeak ST_Slope  HeartDisease  \n",
       "0      172              N      0.0       Up             0  \n",
       "1      156              N      1.0     Flat             1  \n",
       "2       98              N      0.0       Up             0  \n",
       "3      108              Y      1.5     Flat             1  \n",
       "4      122              N      0.0       Up             0  \n",
       "..     ...            ...      ...      ...           ...  \n",
       "913    132              N      1.2     Flat             1  \n",
       "914    141              N      3.4     Flat             1  \n",
       "915    115              Y      1.2     Flat             1  \n",
       "916    174              N      0.0     Flat             1  \n",
       "917    173              N      0.0       Up             0  \n",
       "\n",
       "[918 rows x 12 columns]"
      ]
     },
     "execution_count": 2,
     "metadata": {},
     "output_type": "execute_result"
    }
   ],
   "source": [
    "df=pd.read_csv(\"../input/heart-failure-prediction/heart.csv\")\n",
    "df"
   ]
  },
  {
   "cell_type": "code",
   "execution_count": 3,
   "metadata": {
    "execution": {
     "iopub.execute_input": "2022-04-26T08:17:04.637283Z",
     "iopub.status.busy": "2022-04-26T08:17:04.637015Z",
     "iopub.status.idle": "2022-04-26T08:17:05.728112Z",
     "shell.execute_reply": "2022-04-26T08:17:05.726981Z"
    },
    "papermill": {
     "duration": 1.114533,
     "end_time": "2022-04-26T08:17:05.730506",
     "exception": false,
     "start_time": "2022-04-26T08:17:04.615973",
     "status": "completed"
    },
    "tags": []
   },
   "outputs": [],
   "source": [
    "from sklearn.preprocessing import LabelEncoder"
   ]
  },
  {
   "cell_type": "code",
   "execution_count": 4,
   "metadata": {
    "execution": {
     "iopub.execute_input": "2022-04-26T08:17:05.774470Z",
     "iopub.status.busy": "2022-04-26T08:17:05.773928Z",
     "iopub.status.idle": "2022-04-26T08:17:05.786443Z",
     "shell.execute_reply": "2022-04-26T08:17:05.785565Z"
    },
    "papermill": {
     "duration": 0.03761,
     "end_time": "2022-04-26T08:17:05.789191",
     "exception": false,
     "start_time": "2022-04-26T08:17:05.751581",
     "status": "completed"
    },
    "tags": []
   },
   "outputs": [
    {
     "name": "stderr",
     "output_type": "stream",
     "text": [
      "/opt/conda/lib/python3.7/site-packages/sklearn/preprocessing/_label.py:115: DataConversionWarning: A column-vector y was passed when a 1d array was expected. Please change the shape of y to (n_samples, ), for example using ravel().\n",
      "  y = column_or_1d(y, warn=True)\n"
     ]
    }
   ],
   "source": [
    "labelenc=LabelEncoder()\n",
    "coloum_list=['Sex','ChestPainType','RestingECG','ExerciseAngina','ST_Slope']\n",
    "x={}\n",
    "for col in coloum_list:\n",
    "    data=df[col].to_numpy()\n",
    "    encode=labelenc.fit_transform(data.reshape(-1,1))\n",
    "    x[col]=encode"
   ]
  },
  {
   "cell_type": "code",
   "execution_count": 5,
   "metadata": {
    "execution": {
     "iopub.execute_input": "2022-04-26T08:17:05.834506Z",
     "iopub.status.busy": "2022-04-26T08:17:05.834234Z",
     "iopub.status.idle": "2022-04-26T08:17:05.844898Z",
     "shell.execute_reply": "2022-04-26T08:17:05.843984Z"
    },
    "papermill": {
     "duration": 0.035851,
     "end_time": "2022-04-26T08:17:05.847120",
     "exception": false,
     "start_time": "2022-04-26T08:17:05.811269",
     "status": "completed"
    },
    "tags": []
   },
   "outputs": [],
   "source": [
    "encoded_x=pd.DataFrame.from_dict(x)\n",
    "numerical_list=['Age', 'RestingBP', 'Cholesterol', 'FastingBS',\n",
    "    'MaxHR', 'Oldpeak']\n",
    "for col in numerical_list:\n",
    "    encoded_x[col]=df[col]"
   ]
  },
  {
   "cell_type": "code",
   "execution_count": 6,
   "metadata": {
    "execution": {
     "iopub.execute_input": "2022-04-26T08:17:05.892521Z",
     "iopub.status.busy": "2022-04-26T08:17:05.891939Z",
     "iopub.status.idle": "2022-04-26T08:17:05.913379Z",
     "shell.execute_reply": "2022-04-26T08:17:05.912738Z"
    },
    "papermill": {
     "duration": 0.046868,
     "end_time": "2022-04-26T08:17:05.915519",
     "exception": false,
     "start_time": "2022-04-26T08:17:05.868651",
     "status": "completed"
    },
    "tags": []
   },
   "outputs": [
    {
     "data": {
      "text/html": [
       "<div>\n",
       "<style scoped>\n",
       "    .dataframe tbody tr th:only-of-type {\n",
       "        vertical-align: middle;\n",
       "    }\n",
       "\n",
       "    .dataframe tbody tr th {\n",
       "        vertical-align: top;\n",
       "    }\n",
       "\n",
       "    .dataframe thead th {\n",
       "        text-align: right;\n",
       "    }\n",
       "</style>\n",
       "<table border=\"1\" class=\"dataframe\">\n",
       "  <thead>\n",
       "    <tr style=\"text-align: right;\">\n",
       "      <th></th>\n",
       "      <th>Sex</th>\n",
       "      <th>ChestPainType</th>\n",
       "      <th>RestingECG</th>\n",
       "      <th>ExerciseAngina</th>\n",
       "      <th>ST_Slope</th>\n",
       "      <th>Age</th>\n",
       "      <th>RestingBP</th>\n",
       "      <th>Cholesterol</th>\n",
       "      <th>FastingBS</th>\n",
       "      <th>MaxHR</th>\n",
       "      <th>Oldpeak</th>\n",
       "    </tr>\n",
       "  </thead>\n",
       "  <tbody>\n",
       "    <tr>\n",
       "      <th>Sex</th>\n",
       "      <td>1.000000</td>\n",
       "      <td>-0.126559</td>\n",
       "      <td>0.071552</td>\n",
       "      <td>0.190664</td>\n",
       "      <td>-0.150693</td>\n",
       "      <td>0.055750</td>\n",
       "      <td>0.005133</td>\n",
       "      <td>-0.200092</td>\n",
       "      <td>0.120076</td>\n",
       "      <td>-0.189186</td>\n",
       "      <td>0.105734</td>\n",
       "    </tr>\n",
       "    <tr>\n",
       "      <th>ChestPainType</th>\n",
       "      <td>-0.126559</td>\n",
       "      <td>1.000000</td>\n",
       "      <td>-0.072537</td>\n",
       "      <td>-0.354727</td>\n",
       "      <td>0.213521</td>\n",
       "      <td>-0.077150</td>\n",
       "      <td>-0.020647</td>\n",
       "      <td>0.067880</td>\n",
       "      <td>-0.073151</td>\n",
       "      <td>0.289123</td>\n",
       "      <td>-0.177377</td>\n",
       "    </tr>\n",
       "    <tr>\n",
       "      <th>RestingECG</th>\n",
       "      <td>0.071552</td>\n",
       "      <td>-0.072537</td>\n",
       "      <td>1.000000</td>\n",
       "      <td>0.077500</td>\n",
       "      <td>-0.006778</td>\n",
       "      <td>-0.007484</td>\n",
       "      <td>0.022656</td>\n",
       "      <td>-0.196544</td>\n",
       "      <td>0.087050</td>\n",
       "      <td>-0.179276</td>\n",
       "      <td>-0.020438</td>\n",
       "    </tr>\n",
       "    <tr>\n",
       "      <th>ExerciseAngina</th>\n",
       "      <td>0.190664</td>\n",
       "      <td>-0.354727</td>\n",
       "      <td>0.077500</td>\n",
       "      <td>1.000000</td>\n",
       "      <td>-0.428706</td>\n",
       "      <td>0.215793</td>\n",
       "      <td>0.155101</td>\n",
       "      <td>-0.034166</td>\n",
       "      <td>0.060451</td>\n",
       "      <td>-0.370425</td>\n",
       "      <td>0.408752</td>\n",
       "    </tr>\n",
       "    <tr>\n",
       "      <th>ST_Slope</th>\n",
       "      <td>-0.150693</td>\n",
       "      <td>0.213521</td>\n",
       "      <td>-0.006778</td>\n",
       "      <td>-0.428706</td>\n",
       "      <td>1.000000</td>\n",
       "      <td>-0.268264</td>\n",
       "      <td>-0.075162</td>\n",
       "      <td>0.111471</td>\n",
       "      <td>-0.175774</td>\n",
       "      <td>0.343419</td>\n",
       "      <td>-0.501921</td>\n",
       "    </tr>\n",
       "    <tr>\n",
       "      <th>Age</th>\n",
       "      <td>0.055750</td>\n",
       "      <td>-0.077150</td>\n",
       "      <td>-0.007484</td>\n",
       "      <td>0.215793</td>\n",
       "      <td>-0.268264</td>\n",
       "      <td>1.000000</td>\n",
       "      <td>0.254399</td>\n",
       "      <td>-0.095282</td>\n",
       "      <td>0.198039</td>\n",
       "      <td>-0.382045</td>\n",
       "      <td>0.258612</td>\n",
       "    </tr>\n",
       "    <tr>\n",
       "      <th>RestingBP</th>\n",
       "      <td>0.005133</td>\n",
       "      <td>-0.020647</td>\n",
       "      <td>0.022656</td>\n",
       "      <td>0.155101</td>\n",
       "      <td>-0.075162</td>\n",
       "      <td>0.254399</td>\n",
       "      <td>1.000000</td>\n",
       "      <td>0.100893</td>\n",
       "      <td>0.070193</td>\n",
       "      <td>-0.112135</td>\n",
       "      <td>0.164803</td>\n",
       "    </tr>\n",
       "    <tr>\n",
       "      <th>Cholesterol</th>\n",
       "      <td>-0.200092</td>\n",
       "      <td>0.067880</td>\n",
       "      <td>-0.196544</td>\n",
       "      <td>-0.034166</td>\n",
       "      <td>0.111471</td>\n",
       "      <td>-0.095282</td>\n",
       "      <td>0.100893</td>\n",
       "      <td>1.000000</td>\n",
       "      <td>-0.260974</td>\n",
       "      <td>0.235792</td>\n",
       "      <td>0.050148</td>\n",
       "    </tr>\n",
       "    <tr>\n",
       "      <th>FastingBS</th>\n",
       "      <td>0.120076</td>\n",
       "      <td>-0.073151</td>\n",
       "      <td>0.087050</td>\n",
       "      <td>0.060451</td>\n",
       "      <td>-0.175774</td>\n",
       "      <td>0.198039</td>\n",
       "      <td>0.070193</td>\n",
       "      <td>-0.260974</td>\n",
       "      <td>1.000000</td>\n",
       "      <td>-0.131438</td>\n",
       "      <td>0.052698</td>\n",
       "    </tr>\n",
       "    <tr>\n",
       "      <th>MaxHR</th>\n",
       "      <td>-0.189186</td>\n",
       "      <td>0.289123</td>\n",
       "      <td>-0.179276</td>\n",
       "      <td>-0.370425</td>\n",
       "      <td>0.343419</td>\n",
       "      <td>-0.382045</td>\n",
       "      <td>-0.112135</td>\n",
       "      <td>0.235792</td>\n",
       "      <td>-0.131438</td>\n",
       "      <td>1.000000</td>\n",
       "      <td>-0.160691</td>\n",
       "    </tr>\n",
       "    <tr>\n",
       "      <th>Oldpeak</th>\n",
       "      <td>0.105734</td>\n",
       "      <td>-0.177377</td>\n",
       "      <td>-0.020438</td>\n",
       "      <td>0.408752</td>\n",
       "      <td>-0.501921</td>\n",
       "      <td>0.258612</td>\n",
       "      <td>0.164803</td>\n",
       "      <td>0.050148</td>\n",
       "      <td>0.052698</td>\n",
       "      <td>-0.160691</td>\n",
       "      <td>1.000000</td>\n",
       "    </tr>\n",
       "  </tbody>\n",
       "</table>\n",
       "</div>"
      ],
      "text/plain": [
       "                     Sex  ChestPainType  RestingECG  ExerciseAngina  ST_Slope  \\\n",
       "Sex             1.000000      -0.126559    0.071552        0.190664 -0.150693   \n",
       "ChestPainType  -0.126559       1.000000   -0.072537       -0.354727  0.213521   \n",
       "RestingECG      0.071552      -0.072537    1.000000        0.077500 -0.006778   \n",
       "ExerciseAngina  0.190664      -0.354727    0.077500        1.000000 -0.428706   \n",
       "ST_Slope       -0.150693       0.213521   -0.006778       -0.428706  1.000000   \n",
       "Age             0.055750      -0.077150   -0.007484        0.215793 -0.268264   \n",
       "RestingBP       0.005133      -0.020647    0.022656        0.155101 -0.075162   \n",
       "Cholesterol    -0.200092       0.067880   -0.196544       -0.034166  0.111471   \n",
       "FastingBS       0.120076      -0.073151    0.087050        0.060451 -0.175774   \n",
       "MaxHR          -0.189186       0.289123   -0.179276       -0.370425  0.343419   \n",
       "Oldpeak         0.105734      -0.177377   -0.020438        0.408752 -0.501921   \n",
       "\n",
       "                     Age  RestingBP  Cholesterol  FastingBS     MaxHR  \\\n",
       "Sex             0.055750   0.005133    -0.200092   0.120076 -0.189186   \n",
       "ChestPainType  -0.077150  -0.020647     0.067880  -0.073151  0.289123   \n",
       "RestingECG     -0.007484   0.022656    -0.196544   0.087050 -0.179276   \n",
       "ExerciseAngina  0.215793   0.155101    -0.034166   0.060451 -0.370425   \n",
       "ST_Slope       -0.268264  -0.075162     0.111471  -0.175774  0.343419   \n",
       "Age             1.000000   0.254399    -0.095282   0.198039 -0.382045   \n",
       "RestingBP       0.254399   1.000000     0.100893   0.070193 -0.112135   \n",
       "Cholesterol    -0.095282   0.100893     1.000000  -0.260974  0.235792   \n",
       "FastingBS       0.198039   0.070193    -0.260974   1.000000 -0.131438   \n",
       "MaxHR          -0.382045  -0.112135     0.235792  -0.131438  1.000000   \n",
       "Oldpeak         0.258612   0.164803     0.050148   0.052698 -0.160691   \n",
       "\n",
       "                 Oldpeak  \n",
       "Sex             0.105734  \n",
       "ChestPainType  -0.177377  \n",
       "RestingECG     -0.020438  \n",
       "ExerciseAngina  0.408752  \n",
       "ST_Slope       -0.501921  \n",
       "Age             0.258612  \n",
       "RestingBP       0.164803  \n",
       "Cholesterol     0.050148  \n",
       "FastingBS       0.052698  \n",
       "MaxHR          -0.160691  \n",
       "Oldpeak         1.000000  "
      ]
     },
     "execution_count": 6,
     "metadata": {},
     "output_type": "execute_result"
    }
   ],
   "source": [
    "encoded_x.corr()"
   ]
  },
  {
   "cell_type": "code",
   "execution_count": 7,
   "metadata": {
    "execution": {
     "iopub.execute_input": "2022-04-26T08:17:05.964737Z",
     "iopub.status.busy": "2022-04-26T08:17:05.964457Z",
     "iopub.status.idle": "2022-04-26T08:17:05.972575Z",
     "shell.execute_reply": "2022-04-26T08:17:05.971888Z"
    },
    "papermill": {
     "duration": 0.034531,
     "end_time": "2022-04-26T08:17:05.974658",
     "exception": false,
     "start_time": "2022-04-26T08:17:05.940127",
     "status": "completed"
    },
    "tags": []
   },
   "outputs": [],
   "source": [
    "X=encoded_x[[\"Age\",\"Sex\",\"MaxHR\",\"ChestPainType\",\"ST_Slope\",\"Cholesterol\"]].to_numpy()\n",
    "Y=df['HeartDisease'].to_numpy()"
   ]
  },
  {
   "cell_type": "code",
   "execution_count": 8,
   "metadata": {
    "execution": {
     "iopub.execute_input": "2022-04-26T08:17:06.026549Z",
     "iopub.status.busy": "2022-04-26T08:17:06.025759Z",
     "iopub.status.idle": "2022-04-26T08:17:06.086887Z",
     "shell.execute_reply": "2022-04-26T08:17:06.086207Z"
    },
    "papermill": {
     "duration": 0.091222,
     "end_time": "2022-04-26T08:17:06.089263",
     "exception": false,
     "start_time": "2022-04-26T08:17:05.998041",
     "status": "completed"
    },
    "tags": []
   },
   "outputs": [],
   "source": [
    "from sklearn.model_selection import train_test_split"
   ]
  },
  {
   "cell_type": "code",
   "execution_count": 9,
   "metadata": {
    "execution": {
     "iopub.execute_input": "2022-04-26T08:17:06.137615Z",
     "iopub.status.busy": "2022-04-26T08:17:06.137346Z",
     "iopub.status.idle": "2022-04-26T08:17:06.142821Z",
     "shell.execute_reply": "2022-04-26T08:17:06.141839Z"
    },
    "papermill": {
     "duration": 0.032529,
     "end_time": "2022-04-26T08:17:06.144839",
     "exception": false,
     "start_time": "2022-04-26T08:17:06.112310",
     "status": "completed"
    },
    "tags": []
   },
   "outputs": [],
   "source": [
    "x_train,x_test,y_train,y_test=train_test_split(X,Y,test_size=0.2,random_state=124)"
   ]
  },
  {
   "cell_type": "code",
   "execution_count": 10,
   "metadata": {
    "execution": {
     "iopub.execute_input": "2022-04-26T08:17:06.192461Z",
     "iopub.status.busy": "2022-04-26T08:17:06.192084Z",
     "iopub.status.idle": "2022-04-26T08:17:06.199179Z",
     "shell.execute_reply": "2022-04-26T08:17:06.198441Z"
    },
    "papermill": {
     "duration": 0.033503,
     "end_time": "2022-04-26T08:17:06.201309",
     "exception": false,
     "start_time": "2022-04-26T08:17:06.167806",
     "status": "completed"
    },
    "tags": []
   },
   "outputs": [],
   "source": [
    "x_train=(x_train-x_train.min())/(x_train.max()-x_train.min())\n",
    "x_test=(x_test-x_test.min())/(x_test.max()-x_test.min())"
   ]
  },
  {
   "cell_type": "code",
   "execution_count": 11,
   "metadata": {
    "execution": {
     "iopub.execute_input": "2022-04-26T08:17:06.247911Z",
     "iopub.status.busy": "2022-04-26T08:17:06.247003Z",
     "iopub.status.idle": "2022-04-26T08:17:06.330524Z",
     "shell.execute_reply": "2022-04-26T08:17:06.329568Z"
    },
    "papermill": {
     "duration": 0.109455,
     "end_time": "2022-04-26T08:17:06.333228",
     "exception": false,
     "start_time": "2022-04-26T08:17:06.223773",
     "status": "completed"
    },
    "tags": []
   },
   "outputs": [],
   "source": [
    "from sklearn.linear_model import LogisticRegression\n",
    "from sklearn.svm import SVC"
   ]
  },
  {
   "cell_type": "markdown",
   "metadata": {
    "papermill": {
     "duration": 0.025638,
     "end_time": "2022-04-26T08:17:06.386993",
     "exception": false,
     "start_time": "2022-04-26T08:17:06.361355",
     "status": "completed"
    },
    "tags": []
   },
   "source": [
    "# **Logistc Regression**"
   ]
  },
  {
   "cell_type": "code",
   "execution_count": 12,
   "metadata": {
    "execution": {
     "iopub.execute_input": "2022-04-26T08:17:06.434724Z",
     "iopub.status.busy": "2022-04-26T08:17:06.433834Z",
     "iopub.status.idle": "2022-04-26T08:17:06.455442Z",
     "shell.execute_reply": "2022-04-26T08:17:06.454446Z"
    },
    "papermill": {
     "duration": 0.04674,
     "end_time": "2022-04-26T08:17:06.457502",
     "exception": false,
     "start_time": "2022-04-26T08:17:06.410762",
     "status": "completed"
    },
    "tags": []
   },
   "outputs": [
    {
     "data": {
      "text/plain": [
       "LogisticRegression()"
      ]
     },
     "execution_count": 12,
     "metadata": {},
     "output_type": "execute_result"
    }
   ],
   "source": [
    "logR=LogisticRegression()\n",
    "logR.fit(x_train,y_train)"
   ]
  },
  {
   "cell_type": "code",
   "execution_count": 13,
   "metadata": {
    "execution": {
     "iopub.execute_input": "2022-04-26T08:17:06.504155Z",
     "iopub.status.busy": "2022-04-26T08:17:06.503696Z",
     "iopub.status.idle": "2022-04-26T08:17:06.510247Z",
     "shell.execute_reply": "2022-04-26T08:17:06.509181Z"
    },
    "papermill": {
     "duration": 0.032331,
     "end_time": "2022-04-26T08:17:06.512740",
     "exception": false,
     "start_time": "2022-04-26T08:17:06.480409",
     "status": "completed"
    },
    "tags": []
   },
   "outputs": [
    {
     "name": "stdout",
     "output_type": "stream",
     "text": [
      "[0 1 0 0 1 1 0 0 1 1 1 1 0 1 1 1 1 1 1 0 1 1 0 0 0 0 0 0 1 0 1 0 1 1 0 1 0\n",
      " 0 1 0 0 0 0 1 1 0 1 0 0 0 0 0 1 1 1 0 0 1 1 0 1 0 1 1 0 1 0 1 1 1 0 1 1 0\n",
      " 1 1 0 0 0 1 1 0 0 0 1 1 1 1 1 1 1 1 0 0 0 1 0 1 0 1 0 0 1 1 0 0 0 0 0 1 0\n",
      " 0 1 0 1 1 0 1 0 1 1 1 1 1 1 1 1 0 0 0 1 1 0 0 0 0 0 1 1 0 0 1 0 1 0 1 1 0\n",
      " 1 0 1 1 1 0 0 1 0 0 1 1 0 1 0 0 1 1 0 0 1 1 1 0 0 0 0 1 1 1 0 1 1 1 1 1]\n",
      "[0 1 1 0 1 0 0 0 0 1 1 1 0 1 1 0 1 0 0 0 1 1 0 1 0 0 0 1 0 0 0 0 1 0 0 1 0\n",
      " 0 1 1 0 0 0 1 0 0 0 0 1 0 1 0 0 1 0 0 0 1 0 0 1 0 1 1 1 1 1 1 1 1 0 1 1 0\n",
      " 0 0 0 0 0 0 1 0 0 0 1 0 0 1 0 0 1 1 1 0 0 0 0 1 0 1 1 0 1 0 0 1 0 0 0 0 1\n",
      " 1 0 0 1 1 0 1 1 1 1 1 0 1 0 1 1 0 1 0 1 0 1 0 1 0 0 0 1 1 1 1 0 1 0 1 1 1\n",
      " 0 0 0 1 1 1 0 1 1 1 1 0 0 0 0 0 0 0 0 0 1 0 1 0 0 0 1 1 1 1 0 1 1 1 1 1]\n"
     ]
    }
   ],
   "source": [
    "proba=logR.predict(x_test)\n",
    "print(y_test)\n",
    "print(proba)"
   ]
  },
  {
   "cell_type": "code",
   "execution_count": 14,
   "metadata": {
    "execution": {
     "iopub.execute_input": "2022-04-26T08:17:06.561009Z",
     "iopub.status.busy": "2022-04-26T08:17:06.560417Z",
     "iopub.status.idle": "2022-04-26T08:17:06.566901Z",
     "shell.execute_reply": "2022-04-26T08:17:06.565952Z"
    },
    "papermill": {
     "duration": 0.032582,
     "end_time": "2022-04-26T08:17:06.568815",
     "exception": false,
     "start_time": "2022-04-26T08:17:06.536233",
     "status": "completed"
    },
    "tags": []
   },
   "outputs": [
    {
     "data": {
      "text/plain": [
       "0.6793478260869565"
      ]
     },
     "execution_count": 14,
     "metadata": {},
     "output_type": "execute_result"
    }
   ],
   "source": [
    "accuray=(proba==y_test)\n",
    "accuray.mean()"
   ]
  },
  {
   "cell_type": "code",
   "execution_count": 15,
   "metadata": {
    "execution": {
     "iopub.execute_input": "2022-04-26T08:17:06.617728Z",
     "iopub.status.busy": "2022-04-26T08:17:06.617386Z",
     "iopub.status.idle": "2022-04-26T08:17:06.797179Z",
     "shell.execute_reply": "2022-04-26T08:17:06.796325Z"
    },
    "papermill": {
     "duration": 0.207199,
     "end_time": "2022-04-26T08:17:06.799553",
     "exception": false,
     "start_time": "2022-04-26T08:17:06.592354",
     "status": "completed"
    },
    "tags": []
   },
   "outputs": [],
   "source": [
    "import matplotlib.pyplot as plt \n",
    "from sklearn.metrics import confusion_matrix\n",
    "import seaborn"
   ]
  },
  {
   "cell_type": "code",
   "execution_count": 16,
   "metadata": {
    "execution": {
     "iopub.execute_input": "2022-04-26T08:17:06.848724Z",
     "iopub.status.busy": "2022-04-26T08:17:06.847937Z",
     "iopub.status.idle": "2022-04-26T08:17:09.370683Z",
     "shell.execute_reply": "2022-04-26T08:17:09.369922Z"
    },
    "papermill": {
     "duration": 2.549581,
     "end_time": "2022-04-26T08:17:09.372860",
     "exception": false,
     "start_time": "2022-04-26T08:17:06.823279",
     "status": "completed"
    },
    "tags": []
   },
   "outputs": [
    {
     "data": {
      "text/plain": [
       "SVC(degree=10, kernel='poly', probability=True)"
      ]
     },
     "execution_count": 16,
     "metadata": {},
     "output_type": "execute_result"
    }
   ],
   "source": [
    "svc=SVC(kernel='poly',degree=10,probability=True)\n",
    "svc.fit(x_train,y_train)"
   ]
  },
  {
   "cell_type": "code",
   "execution_count": 17,
   "metadata": {
    "execution": {
     "iopub.execute_input": "2022-04-26T08:17:09.423894Z",
     "iopub.status.busy": "2022-04-26T08:17:09.423189Z",
     "iopub.status.idle": "2022-04-26T08:17:09.434532Z",
     "shell.execute_reply": "2022-04-26T08:17:09.433597Z"
    },
    "papermill": {
     "duration": 0.039012,
     "end_time": "2022-04-26T08:17:09.436579",
     "exception": false,
     "start_time": "2022-04-26T08:17:09.397567",
     "status": "completed"
    },
    "tags": []
   },
   "outputs": [
    {
     "name": "stdout",
     "output_type": "stream",
     "text": [
      "[0 1 0 0 1 1 0 0 1 1 1 1 0 1 1 0 1 1 1 1 1 1 0 1 0 0 0 0 0 0 1 0 0 1 0 1 0\n",
      " 0 1 0 1 0 0 1 1 0 1 0 1 0 0 0 1 1 1 0 0 1 1 0 1 1 1 0 1 1 1 1 1 1 0 1 1 0\n",
      " 0 0 0 0 0 1 1 0 0 0 1 1 0 1 0 0 1 1 0 1 0 1 0 1 0 0 0 0 1 1 0 0 0 0 0 1 1\n",
      " 1 0 0 1 1 0 1 0 0 1 1 1 1 1 1 1 0 0 0 1 1 1 0 0 1 0 1 1 0 1 1 0 1 0 1 1 0\n",
      " 1 0 0 1 1 1 1 0 1 0 1 1 0 1 0 1 1 0 0 0 1 1 1 0 0 0 1 1 1 1 1 1 1 1 1 1]\n"
     ]
    }
   ],
   "source": [
    "pred=svc.predict(x_test)\n",
    "prob=svc.predict_proba(x_test)\n",
    "print(pred)\n"
   ]
  },
  {
   "cell_type": "code",
   "execution_count": 18,
   "metadata": {
    "execution": {
     "iopub.execute_input": "2022-04-26T08:17:09.484506Z",
     "iopub.status.busy": "2022-04-26T08:17:09.483634Z",
     "iopub.status.idle": "2022-04-26T08:17:09.735940Z",
     "shell.execute_reply": "2022-04-26T08:17:09.735108Z"
    },
    "papermill": {
     "duration": 0.278686,
     "end_time": "2022-04-26T08:17:09.738323",
     "exception": false,
     "start_time": "2022-04-26T08:17:09.459637",
     "status": "completed"
    },
    "tags": []
   },
   "outputs": [
    {
     "data": {
      "text/plain": [
       "<AxesSubplot:>"
      ]
     },
     "execution_count": 18,
     "metadata": {},
     "output_type": "execute_result"
    },
    {
     "data": {
      "image/png": "[encoded data removed]",
      "text/plain": [
       "<Figure size 432x288 with 2 Axes>"
      ]
     },
     "metadata": {
      "needs_background": "light"
     },
     "output_type": "display_data"
    }
   ],
   "source": [
    "con=confusion_matrix(y_test,pred)\n",
    "seaborn.heatmap(con,annot=True)"
   ]
  },
  {
   "cell_type": "code",
   "execution_count": 19,
   "metadata": {
    "execution": {
     "iopub.execute_input": "2022-04-26T08:17:09.788486Z",
     "iopub.status.busy": "2022-04-26T08:17:09.787755Z",
     "iopub.status.idle": "2022-04-26T08:17:09.794045Z",
     "shell.execute_reply": "2022-04-26T08:17:09.793199Z"
    },
    "papermill": {
     "duration": 0.033403,
     "end_time": "2022-04-26T08:17:09.795982",
     "exception": false,
     "start_time": "2022-04-26T08:17:09.762579",
     "status": "completed"
    },
    "tags": []
   },
   "outputs": [
    {
     "data": {
      "text/plain": [
       "0.8152173913043478"
      ]
     },
     "execution_count": 19,
     "metadata": {},
     "output_type": "execute_result"
    }
   ],
   "source": [
    "accuray=(pred==y_test)\n",
    "accuray.mean()"
   ]
  },
  {
   "cell_type": "code",
   "execution_count": 20,
   "metadata": {
    "execution": {
     "iopub.execute_input": "2022-04-26T08:17:09.846392Z",
     "iopub.status.busy": "2022-04-26T08:17:09.845367Z",
     "iopub.status.idle": "2022-04-26T08:17:09.928968Z",
     "shell.execute_reply": "2022-04-26T08:17:09.928089Z"
    },
    "papermill": {
     "duration": 0.110844,
     "end_time": "2022-04-26T08:17:09.931067",
     "exception": false,
     "start_time": "2022-04-26T08:17:09.820223",
     "status": "completed"
    },
    "tags": []
   },
   "outputs": [],
   "source": [
    "from sklearn.tree import DecisionTreeClassifier"
   ]
  },
  {
   "cell_type": "code",
   "execution_count": 21,
   "metadata": {
    "execution": {
     "iopub.execute_input": "2022-04-26T08:17:09.980064Z",
     "iopub.status.busy": "2022-04-26T08:17:09.979447Z",
     "iopub.status.idle": "2022-04-26T08:17:09.988621Z",
     "shell.execute_reply": "2022-04-26T08:17:09.987968Z"
    },
    "papermill": {
     "duration": 0.035803,
     "end_time": "2022-04-26T08:17:09.990470",
     "exception": false,
     "start_time": "2022-04-26T08:17:09.954667",
     "status": "completed"
    },
    "tags": []
   },
   "outputs": [
    {
     "data": {
      "text/plain": [
       "DecisionTreeClassifier(max_depth=2)"
      ]
     },
     "execution_count": 21,
     "metadata": {},
     "output_type": "execute_result"
    }
   ],
   "source": [
    "dctree=DecisionTreeClassifier(max_depth=2)\n",
    "dctree.fit(x_train,y_train)"
   ]
  },
  {
   "cell_type": "code",
   "execution_count": 22,
   "metadata": {
    "execution": {
     "iopub.execute_input": "2022-04-26T08:17:10.044174Z",
     "iopub.status.busy": "2022-04-26T08:17:10.043454Z",
     "iopub.status.idle": "2022-04-26T08:17:10.050950Z",
     "shell.execute_reply": "2022-04-26T08:17:10.050241Z"
    },
    "papermill": {
     "duration": 0.036838,
     "end_time": "2022-04-26T08:17:10.053191",
     "exception": false,
     "start_time": "2022-04-26T08:17:10.016353",
     "status": "completed"
    },
    "tags": []
   },
   "outputs": [
    {
     "data": {
      "text/plain": [
       "0.8260869565217391"
      ]
     },
     "execution_count": 22,
     "metadata": {},
     "output_type": "execute_result"
    }
   ],
   "source": [
    "pred=dctree.predict(x_test)\n",
    "accuray=(pred==y_test)\n",
    "accuray.mean()"
   ]
  },
  {
   "cell_type": "code",
   "execution_count": 23,
   "metadata": {
    "execution": {
     "iopub.execute_input": "2022-04-26T08:17:10.106278Z",
     "iopub.status.busy": "2022-04-26T08:17:10.105562Z",
     "iopub.status.idle": "2022-04-26T08:17:10.330445Z",
     "shell.execute_reply": "2022-04-26T08:17:10.329785Z"
    },
    "papermill": {
     "duration": 0.253589,
     "end_time": "2022-04-26T08:17:10.332357",
     "exception": false,
     "start_time": "2022-04-26T08:17:10.078768",
     "status": "completed"
    },
    "tags": []
   },
   "outputs": [
    {
     "data": {
      "text/plain": [
       "<AxesSubplot:>"
      ]
     },
     "execution_count": 23,
     "metadata": {},
     "output_type": "execute_result"
    },
    {
     "data": {
      "image/png": "[encoded data removed]",
      "text/plain": [
       "<Figure size 432x288 with 2 Axes>"
      ]
     },
     "metadata": {
      "needs_background": "light"
     },
     "output_type": "display_data"
    }
   ],
   "source": [
    "con=confusion_matrix(y_test,pred)\n",
    "seaborn.heatmap(con,annot=True)"
   ]
  },
  {
   "cell_type": "code",
   "execution_count": null,
   "metadata": {
    "papermill": {
     "duration": 0.024745,
     "end_time": "2022-04-26T08:17:10.382839",
     "exception": false,
     "start_time": "2022-04-26T08:17:10.358094",
     "status": "completed"
    },
    "tags": []
   },
   "outputs": [],
   "source": []
  },
  {
   "cell_type": "code",
   "execution_count": null,
   "metadata": {
    "papermill": {
     "duration": 0.025485,
     "end_time": "2022-04-26T08:17:10.433392",
     "exception": false,
     "start_time": "2022-04-26T08:17:10.407907",
     "status": "completed"
    },
    "tags": []
   },
   "outputs": [],
   "source": []
  }
 ],
 "metadata": {
  "kernelspec": {
   "display_name": "Python 3",
   "language": "python",
   "name": "python3"
  },
  "language_info": {
   "codemirror_mode": {
    "name": "ipython",
    "version": 3
   },
   "file_extension": ".py",
   "mimetype": "text/x-python",
   "name": "python",
   "nbconvert_exporter": "python",
   "pygments_lexer": "ipython3",
   "version": "3.8.5"
  },
  "papermill": {
   "default_parameters": {},
   "duration": 15.64768,
   "end_time": "2022-04-26T08:17:11.179984",
   "environment_variables": {},
   "exception": null,
   "input_path": "__notebook__.ipynb",
   "output_path": "__notebook__.ipynb",
   "parameters": {},
   "start_time": "2022-04-26T08:16:55.532304",
   "version": "2.3.4"
  }
 },
 "nbformat": 4,
 "nbformat_minor": 5
}
